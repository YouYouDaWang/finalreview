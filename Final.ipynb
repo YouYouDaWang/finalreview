{
 "cells": [
  {
   "cell_type": "code",
   "execution_count": null,
   "metadata": {},
   "outputs": [],
   "source": [
    "#  Pandas (make sure you have the cheatsheet handy)"
   ]
  },
  {
   "cell_type": "code",
   "execution_count": null,
   "metadata": {},
   "outputs": [],
   "source": [
    "print (\"Here\\tis a tab character and this\\n is a newline\")\n",
    "\n",
    "s1 = \"DNSC6119 Programming for Analytics\"\n",
    "print (s1[:10])\n",
    "print (s1.lower())\n",
    "print (s1[s1.index('mm'):])\n",
    "mylist = s1.split(' ')\n",
    "print (mylist)\n",
    "\n",
    "pow(5,2)\n",
    "\n",
    "for letter in 'Python':\n",
    "   if letter == 'h':\n",
    "      continue\n",
    "   print ('Current Letter :', letter)\n"
   ]
  },
  {
   "cell_type": "code",
   "execution_count": null,
   "metadata": {},
   "outputs": [],
   "source": [
    "#  Data frames and files reading and writing\n",
    "\n",
    "fh = open(\"numbers.txt\", \"r\")\n",
    "a = fh.read() \n",
    "print(a)\n",
    "fh.close()\n",
    "mylist = a.replace('\\n',',').split(',')"
   ]
  },
  {
   "cell_type": "code",
   "execution_count": null,
   "metadata": {},
   "outputs": [],
   "source": [
    "fh = open(\"numbers.txt\", \"r\")\n",
    "contents = fh.readlines()\n",
    "fh.close()\n",
    "\n",
    "print(contents)\n",
    "\n",
    "mylist = []\n",
    "for line in contents:\n",
    "    oneline = line.strip()\n",
    "    linelist = oneline.split(',')\n",
    "    \n",
    "    numlist = []\n",
    "    for i in linelist:\n",
    "        numlist.append(int(i))\n",
    "    print(numlist)\n",
    "    \n",
    "    mylist.append(numlist)\n",
    "print(mylist)\n",
    "\n",
    "print(len(mylist))\n",
    "print(mylist[1][1])\n"
   ]
  },
  {
   "cell_type": "code",
   "execution_count": null,
   "metadata": {},
   "outputs": [],
   "source": [
    "#  Data cleaning, handling missing values"
   ]
  },
  {
   "cell_type": "code",
   "execution_count": null,
   "metadata": {},
   "outputs": [],
   "source": [
    "#  Data management, dplyr\n",
    "#     subsetting\n",
    "#     aggregating\n",
    "#     joining, etc."
   ]
  },
  {
   "cell_type": "code",
   "execution_count": null,
   "metadata": {},
   "outputs": [],
   "source": [
    "#  Handling sql from within Python"
   ]
  },
  {
   "cell_type": "code",
   "execution_count": null,
   "metadata": {},
   "outputs": [],
   "source": [
    "#  Functions (writing and using functions with parameters)"
   ]
  },
  {
   "cell_type": "code",
   "execution_count": null,
   "metadata": {},
   "outputs": [],
   "source": [
    "#  Plotting\n",
    "#     Matplotlib (make sure you have the cheatsheet handy)"
   ]
  },
  {
   "cell_type": "code",
   "execution_count": null,
   "metadata": {},
   "outputs": [],
   "source": [
    "#  Web scraping"
   ]
  },
  {
   "cell_type": "code",
   "execution_count": null,
   "metadata": {},
   "outputs": [],
   "source": [
    "#  Twitter data analysis"
   ]
  },
  {
   "cell_type": "code",
   "execution_count": null,
   "metadata": {},
   "outputs": [],
   "source": [
    "#  Exploratory data analysis in Python\n",
    "#     Univariate\n",
    "#     Bivariate\n",
    "#     Clustering"
   ]
  },
  {
   "cell_type": "code",
   "execution_count": null,
   "metadata": {},
   "outputs": [],
   "source": [
    "#  Regression\n",
    "#     Logistic\n",
    "#     Linear"
   ]
  }
 ],
 "metadata": {
  "kernelspec": {
   "display_name": "Python 3",
   "language": "python",
   "name": "python3"
  },
  "language_info": {
   "codemirror_mode": {
    "name": "ipython",
    "version": 3
   },
   "file_extension": ".py",
   "mimetype": "text/x-python",
   "name": "python",
   "nbconvert_exporter": "python",
   "pygments_lexer": "ipython3",
   "version": "3.6.2"
  }
 },
 "nbformat": 4,
 "nbformat_minor": 2
}
